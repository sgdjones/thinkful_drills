{
 "cells": [
  {
   "cell_type": "markdown",
   "metadata": {},
   "source": [
    "# Experimental Design Assignments\n",
    "\n",
    "## Assignment 1 A/B Testing\n",
    "## Drill: Getting Testy\n",
    "1.4.1 <br>\n",
    "For each of the following questions, outline how you could use an A/B test to find an answer. Be sure to identify all five key components of an A/B test we outlines above.\n",
    "\n",
    "- Does a new supplement help people sleep better?<br>\n",
    "    1) Sample: choose random sample of the population of who you are testing (age, location, income level, etc)<br>\n",
    "    2) Hypothesis: Those taking the supplement will have better sleep,<br>\n",
    "    3) The test group with the supplement will have longer hours of sleep.  The amount of time sleeping being the key metric. <br>\n",
    "    4) Other measured outcome: Examine if subjects fall asleep more quickly. <br>\n",
    "- Will new uniforms help a gym's business?<br>\n",
    "    1) Choose a specific region the gym operates in.  Randomly choose gyms in the area.  <br>\n",
    "    2) Hypothesis: Gyms with new uniforms will improve business performance.\n",
    "    3) Key metric: After a specific amount of time, sales that are conducted by those wearing the new uniforms will increase. Specifically, training sessions. <br>\n",
    "    4) Other measured outcome: Examine sales of products conducted by staff wearing the uniform for possible increases.\n",
    "- Will a new homepage improve my online exotic pet rental business?<br>\n",
    "    1) Sample: Create a new homepage.<br>\n",
    "    2) Hypothesis: The new Homepage will create more sales.<br>\n",
    "    3) Expected Measureable outcome: Measure sales that result from the new homepage and compare those sales to the previous year (within the same increment of time--quarter sales.)<br>\n",
    "    4) Other Measured variables: Measure clicks and time before sales are completed<br>\n",
    "- If I put \"please read\" in the email subject will more people read my emails?<br>\n",
    "    1) Sample: Send a specific number of emails to twp randomly selected readership groups. One email with the newly added subject line and one without.<br> \n",
    "    2) Hypothesis: The emails with \"Please read\" will be read.<br>\n",
    "    3) Expected measured outcome: using images to track if an email is opened (pixel to each unique address).  Assuming an opened email is read.<br>\n",
    "    4) Other measured outcome: at the bottom of the email, request a response.  Measure the amount of readers that respond to the email.<br>\n"
   ]
  },
  {
   "cell_type": "markdown",
   "metadata": {},
   "source": [
    "## Assignment 2 Bias and A/A Testing\n",
    "\n",
    "## DRILL: Am I Biased?\n",
    "For each of the following scenarios, call out the potential biases in the proposed experiment. Do your best to try to discover not only the bias, but the initial design. There is plenty of room for interpretation here, so make sure to state what assumptions you're making.\n",
    "\n",
    "- You're testing advertising emails for a bathing suit company and you test one version of the email in February and the other in May.\n",
    "- You open a clinic to treat anxiety and find that the people who visit show a higher rate of anxiety than the general population.\n",
    "- You launch a new ad billboard based campaign and see an increase in website visits in the first week.\n",
    "- You launch a loyalty program but see no change in visits in the first week.\n",
    "\n",
    "<br>\n",
    "1) You're testing advertising emails for a bathing suit company and you test one version of the email in February and the other in May.<br>\n",
    "    Depending on location.  There may not be a need/desire for bathings suite in February, but in May you may see more response due to warmer weather and summer plans. <br>\n",
    "    \n",
    "2)  You open a clinic to treat anxiety and find that the people who visit show a higher rate of anxiety than the general population.\n",
    "    The clinic is designed to treat anxiety, therefore people with other characteristics would not visit the clinic. The clinic serves a specific function and would attract that type of population. <br>\n",
    "    \n",
    "3) You launch a new ad billboard based campaign and see an increase in website visits in the first week. <br>\n",
    "    I would want to study what other events are occuring during the campaign in addition to the billboard ad.  What website visitors saw the billboard campaign--if that is identified, the effectiveness of the billboard campaign could be tested.  Without identifcation of the website traffic, it would be difficult to prove a direct relationship between the billboard campaign and the increase in website traffic.\n",
    "    \n",
    "4) You launch a loyalty program but see no change in visits in the first week.\n",
    "    There may not be enough time allowed to see an effect of the loyalty program.  Increase the window of time, and identify a way to track visits orginating from the loyalty program.\n",
    "\n",
    "\n",
    "\n",
    "\n"
   ]
  },
  {
   "cell_type": "markdown",
   "metadata": {},
   "source": [
    "## Assignment 3 \n",
    "\n",
    "## Challenge: Evaluate an experiment analysis\n",
    "\n",
    "Now it's time to flex your critical evaluation skills. Read the following descriptions of an experiment and its analysis, identify the flaws in each, and describe what you would do to correct them.\n",
    "\n",
    "    1) The Sith Lords are concerned that their recruiting slogan, \"Give In to Your Anger,\" isn't very effective. Darth Vader develops an alternative slogan, \"Together We Can Rule the Galaxy.\" They compare the slogans on two groups of 50 captured droids each. In one group, Emperor Palpatine delivers the \"Anger\" slogan. In the other, Darth Vader presents the \"Together\" slogan. 20 droids convert to the Dark Side after hearing Palpatine's slogan, while only 5 droids convert after hearing Vader's. The Sith's data scientist concludes that \"Anger\" is a more effective slogan and should continue to be used.\n",
    "    \n",
    "    The two groups compated are from capture droids.  They may already be angry and this may prove the \"Anger\" slogan effective.  To more accurately test the slogans, a true A/B test would be from a sample of that more accruate reflects the general population.  \n",
    "\n",
    "    2) In the past, the Jedi have had difficulty with public relations. They send two envoys, Jar Jar Binks and Mace Windu, to four friendly and four unfriendly planets respectively, with the goal of promoting favorable feelings toward the Jedi. Upon their return, the envoys learn that Jar Jar was much more effective than Windu: Over 75% of the people surveyed said their attitudes had become more favorable after speaking with Jar Jar, while only 65% said their attitudes had become more favorable after speaking with Windu. This makes Windu angry, because he is sure that he had a better success rate than Jar Jar on every planet. The Jedi choose Jar Jar to be their representative in the future.\n",
    "    \n",
    "    It appears Windu visited the unfriendly planets and would most likely have a lower response.  Essentially this is not an accurate reflection of the population by dividing the planets into friendly and unfreindly.  Instead, 2 frienndly planets and 2 unfriendly planets should be assigned to each representative. Those samples would more accruately reflect the general population.\n",
    "\n",
    "    3) A company with work sites in five different countries has sent you data on employee satisfaction rates for workers in Human Resources and workers in Information Technology. Most HR workers are concentrated in three of the countries, while IT workers are equally distributed across worksites. The company requests a report on satisfaction for each job type. You calculate average job satisfaction for HR and for IT and present the report.\n",
    "    \n",
    "    First, the correct sample would reflect the distribution of the populations.  Secondly, the location should be taken into consideration.  Maybe some geographical areas are more desireable (or miserable than others).\n",
    "\n",
    "    4) When people install the Happy Days Fitness Tracker app, they are asked to \"opt in\" to a data collection scheme where their level of physical activity data is automatically sent to the company for product research purposes. During your interview with the company, they tell you that the app is very effective because after installing the app, the data show that people's activity levels rise steadily.\n",
    "    \n",
    "    The previous data is not available to compare the people's activity level.  The app could request that info before tracking users/\n",
    "\n",
    "    5) To prevent cheating, a teacher writes three versions of a test. She stacks the three versions together, first all copies of Version A, then all copies of Version B, then all copies of Version C. As students arrive for the exam, each student takes a test. When grading the test, the teacher finds that students who took Version B scored higher than students who took either Version A or Version C. She concludes from this that Version B is easier, and discards it.\n",
    "\n",
    "    What type of student arrives at the time?  Possibly student who have student tend to arrive at the time test B was distributed. The conclusion although maybe correct, can not be accuratately evaluated.  To be more accruate the distribution should be random\n"
   ]
  },
  {
   "cell_type": "markdown",
   "metadata": {},
   "source": [
    "## Assignment 4\n",
    "\n",
    "## DRILL: Make a quick research proposal\n",
    "Look back to the potential experiments in the previous assignment. For one of those experiments, write up the essential points of a research proposal for an improved version of that experiment."
   ]
  },
  {
   "cell_type": "markdown",
   "metadata": {},
   "source": [
    "Problem: Possible Cheating in the Classroom.  How to reduce the chance for cheating?\n",
    "\n",
    "Potential Solution: Developing and distributing multiple versions of a test would prevent cheating and possibly identify those who do cheat.\n",
    "\n",
    "Method of Testing:\n",
    "Develop 3 versions of a test covering the same material.  \n",
    "Distribute randomly to the students.\n",
    "As the tests are different, but the material the same, those who understand the testing material should perform based on their study levels.  Additionally, there appear to be similar \"innapproprate\" answers to some questions, one can identify if they copied their neighbors.  \n",
    "If a significant number of students did not perform well which had in the past, it may be assumed cheating had occurred before the newly desgined test."
   ]
  },
  {
   "cell_type": "code",
   "execution_count": null,
   "metadata": {},
   "outputs": [],
   "source": []
  }
 ],
 "metadata": {
  "kernelspec": {
   "display_name": "Python 3",
   "language": "python",
   "name": "python3"
  },
  "language_info": {
   "codemirror_mode": {
    "name": "ipython",
    "version": 3
   },
   "file_extension": ".py",
   "mimetype": "text/x-python",
   "name": "python",
   "nbconvert_exporter": "python",
   "pygments_lexer": "ipython3",
   "version": "3.7.3"
  }
 },
 "nbformat": 4,
 "nbformat_minor": 2
}
