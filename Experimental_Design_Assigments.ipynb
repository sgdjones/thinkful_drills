{
 "cells": [
  {
   "cell_type": "markdown",
   "metadata": {},
   "source": [
    "# Experimental Design Assignments\n",
    "\n",
    "## Assignment 1 \n",
    "## Drill: Getting Testy\n",
    "1.4.1 <br>\n",
    "For each of the following questions, outline how you could use an A/B test to find an answer. Be sure to identify all five key components of an A/B test we outlines above.\n",
    "\n",
    "- Does a new supplement help people sleep better?<br>\n",
    "    1) Sample: choose random sample of the population of who you are testing (age, location, income level, etc)<br>\n",
    "    2) Hypothesis: Those taking the supplement will have better sleep,<br>\n",
    "    3) The test group with the supplement will have longer hours of sleep.  The amount of time sleeping being the key metric. <br>\n",
    "    4) Other measured outcome: Examine if subjects fall asleep more quickly. <br>\n",
    "- Will new uniforms help a gym's business?<br>\n",
    "    1) Choose a specific region the gym operates in.  Randomly choose gyms in the area.  <br>\n",
    "    2) Hypothesis: Gyms with new uniforms will improve business performance.\n",
    "    3) Key metric: After a specific amount of time, sales that are conducted by those wearing the new uniforms will increase. Specifically, training sessions. <br>\n",
    "    4) Other measured outcome: Examine sales of products conducted by staff wearing the uniform for possible increases.\n",
    "- Will a new homepage improve my online exotic pet rental business?<br>\n",
    "    1) Sample: Create a new homepage.<br>\n",
    "    2) Hypothesis: The new Homepage will create more sales.<br>\n",
    "    3) Expected Measureable outcome: Measure sales that result from the new homepage and compare those sales to the previous year (within the same increment of time--quarter sales.)<br>\n",
    "    4) Other Measured variables: Measure clicks and time before sales are completed<br>\n",
    "- If I put \"please read\" in the email subject will more people read my emails?<br>\n",
    "    1) Sample: Send a specific number of emails to twp randomly selected readership groups. One email with the newly added subject line and one without.<br> \n",
    "    2) Hypothesis: The emails with \"Please read\" will be read.<br>\n",
    "    3) Expected measured outcome: using images to track if an email is opened (pixel to each unique address).  Assuming an opened email is read.<br>\n",
    "    4) Other measured outcome: at the bottom of the email, request a response.  Measure the amount of readers that respond to the email.<br>\n"
   ]
  },
  {
   "cell_type": "markdown",
   "metadata": {},
   "source": [
    "## Assignment 2\n",
    "\n",
    "## DRILL: Am I Biased?\n",
    "For each of the following scenarios, call out the potential biases in the proposed experiment. Do your best to try to discover not only the bias, but the initial design. There is plenty of room for interpretation here, so make sure to state what assumptions you're making.\n",
    "\n",
    "- You're testing advertising emails for a bathing suit company and you test one version of the email in February and the other in May.\n",
    "- You open a clinic to treat anxiety and find that the people who visit show a higher rate of anxiety than the general population.\n",
    "- You launch a new ad billboard based campaign and see an increase in website visits in the first week.\n",
    "- You launch a loyalty program but see no change in visits in the first week.\n",
    "\n",
    "<br>\n",
    "1) You're testing advertising emails for a bathing suit company and you test one version of the email in February and the other in May.<br>\n",
    "    Depending on location.  There may not be a need/desire for bathings suite in February, but in May you may see more response due to warmer weather and summer plans. <br>\n",
    "    \n",
    "2)  You open a clinic to treat anxiety and find that the people who visit show a higher rate of anxiety than the general population.\n",
    "    The clinic is designed to treat anxiety, therefore people with other characteristics would not visit the clinic. The clinic serves a specific function and would attract that type of population. <br>\n",
    "    \n",
    "3) You launch a new ad billboard based campaign and see an increase in website visits in the first week. <br>\n",
    "    I would want to study what other events are occuring during the campaign in addition to the billboard ad.  What website visitors saw the billboard campaign--if that is identified, the effectiveness of the billboard campaign could be tested.  Without identifcation of the website traffic, it would be difficult to prove a direct relationship between the billboard campaign and the increase in website traffic.\n",
    "    \n",
    "4) You launch a loyalty program but see no change in visits in the first week.\n",
    "    There may not be enough time allowed to see an effect of the loyalty program.  Increase the window of time, and identify a way to track visits orginating from the loyalty program.\n",
    "\n",
    "\n",
    "\n",
    "\n"
   ]
  },
  {
   "cell_type": "code",
   "execution_count": null,
   "metadata": {},
   "outputs": [],
   "source": []
  }
 ],
 "metadata": {
  "kernelspec": {
   "display_name": "Python 3",
   "language": "python",
   "name": "python3"
  },
  "language_info": {
   "codemirror_mode": {
    "name": "ipython",
    "version": 3
   },
   "file_extension": ".py",
   "mimetype": "text/x-python",
   "name": "python",
   "nbconvert_exporter": "python",
   "pygments_lexer": "ipython3",
   "version": "3.7.3"
  }
 },
 "nbformat": 4,
 "nbformat_minor": 2
}
