{
 "cells": [
  {
   "cell_type": "markdown",
   "metadata": {},
   "source": [
    "# Drills \n",
    "### 3.2.6 Bayes' Rule\n",
    "### 3.2.7 Evaluating Data\n",
    "### 3.2.8 Monty Hall Challenge\n"
   ]
  },
  {
   "cell_type": "markdown",
   "metadata": {},
   "source": [
    "# 3.2.6 Drill: Bayes' Rule\n",
    "\n",
    "Diagnostic test = 98% probabilty of positive result when applied to person suffering from Thripshaw's (2% false negative)\n",
    "\n",
    "10% chance of false positive for a non-sufferer.  \n",
    "0.5% indeed suffer from Thripshaw's.\n",
    "\n",
    "Calculate the probability that the test will:\n",
    "\n",
    "1) Be positive <br>\n",
    "2) Correctly diagnose a sufferer of Thripshaw's <br>\n",
    "3) Correctly identify a non-sufferer of Thripshaw's <br>\n",
    "4) Misclassify the person <br>"
   ]
  },
  {
   "cell_type": "markdown",
   "metadata": {},
   "source": [
    "Intuitively, I was off a calculation on question one.  \n",
    "I was correct in the correct diagnosisi of 98% of Thipshaw sufferers (previously mentioned a 2% false negative)\n",
    "If the chance of a false positive is 10% then 90% is a correctly diagnosed test.\n",
    "For question 4...I defintely got lost in the abstract equation and did not intuit the info. \n",
    "\n",
    "Below are my calculations."
   ]
  },
  {
   "cell_type": "code",
   "execution_count": 28,
   "metadata": {},
   "outputs": [
    {
     "name": "stdout",
     "output_type": "stream",
     "text": [
      "0.1044\n"
     ]
    }
   ],
   "source": [
    "positive = (.98*.005) + (.1*.995)\n",
    "\n",
    "print (positive)"
   ]
  },
  {
   "cell_type": "code",
   "execution_count": 29,
   "metadata": {},
   "outputs": [
    {
     "name": "stdout",
     "output_type": "stream",
     "text": [
      "0.98\n"
     ]
    }
   ],
   "source": [
    "thripshaw_positive = .98\n",
    "print (thripshaw_positive)"
   ]
  },
  {
   "cell_type": "code",
   "execution_count": 30,
   "metadata": {},
   "outputs": [
    {
     "name": "stdout",
     "output_type": "stream",
     "text": [
      "0.9\n"
     ]
    }
   ],
   "source": [
    "thripshaw_negative = .9\n",
    "print(thripshaw_negative)"
   ]
  },
  {
   "cell_type": "code",
   "execution_count": 31,
   "metadata": {},
   "outputs": [
    {
     "name": "stdout",
     "output_type": "stream",
     "text": [
      "0.09960000000000002\n"
     ]
    }
   ],
   "source": [
    "#can easily incorrectly apply the order of operations here!\n",
    "misclassify = 1-((.98*.005)+(.9*.995))\n",
    "print(misclassify)"
   ]
  },
  {
   "cell_type": "markdown",
   "metadata": {},
   "source": [
    "# 3.2.7 Evaluating Data\n",
    "\n",
    "1) We could reframe the question to ask the following: \"What are the popular Amsterdam neighborhoods during the winter holidays for AirBnB users?\n",
    "\n",
    "2) \"Given national traumatic events, how do patterns of mental health services vary between cities directly impacted by the events vs those more distant?\"\n",
    "\n",
    "3) \"Why do Armenian students visit local pubs in the spring (Feb/Mar)?\""
   ]
  },
  {
   "cell_type": "markdown",
   "metadata": {},
   "source": [
    "# 3.2.8 Challenge - Beware of Monty Hall\n",
    "Monty Hall Challenge\n",
    "\n",
    "You should always change doors. Assuming the host knows the door he/she is opening is a dud and not the prize, also not the same door first chosen by the contestant. If offered three doors, the contestant increases the odds of choosing a prize from 1/3 to 2/3.\n",
    "\n",
    "By choosing the initial door, the host opening a different door, and the contestant switiching doors you have \"concentrated\" your chances of winning whether there are 3 doors or 100 doors."
   ]
  }
 ],
 "metadata": {
  "kernelspec": {
   "display_name": "Python 3",
   "language": "python",
   "name": "python3"
  },
  "language_info": {
   "codemirror_mode": {
    "name": "ipython",
    "version": 3
   },
   "file_extension": ".py",
   "mimetype": "text/x-python",
   "name": "python",
   "nbconvert_exporter": "python",
   "pygments_lexer": "ipython3",
   "version": "3.6.5"
  }
 },
 "nbformat": 4,
 "nbformat_minor": 2
}
